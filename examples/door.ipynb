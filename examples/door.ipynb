{
 "cells": [
  {
   "cell_type": "code",
   "execution_count": 5,
   "id": "initial_id",
   "metadata": {
    "collapsed": true,
    "ExecuteTime": {
     "end_time": "2024-04-02T06:11:00.232894Z",
     "start_time": "2024-04-02T06:11:00.190359Z"
    }
   },
   "source": [
    "from random_events.events import Event, ComplexEvent\n",
    "from random_events.variables import Continuous\n",
    "import portion\n",
    "import plotly.graph_objects as go\n",
    "\n",
    "\n",
    "grey = \"#7f7f7f\"\n",
    "gold = \"#bcbd22\"\n",
    "\n",
    "x = Continuous(\"x\")\n",
    "y = Continuous(\"y\")\n",
    "z = Continuous(\"z\")\n",
    "\n",
    "lock = Event({x: portion.closedopen(0, 6), y: portion.closedopen(0, 10), z: portion.closedopen(0, 10)})\n",
    "\n",
    "keyhole = Event({y: portion.closedopen(0, 5), x: portion.closedopen(2, 4), z: portion.closedopen(6, 8)})\n",
    "keyhole_rod = Event({y: portion.closedopen(0, 5), x: portion.closedopen(2.5, 3.5), z: portion.closedopen(3, 6)})\n",
    "keyhole |= keyhole_rod\n",
    "\n",
    "keyhole_teeth = ComplexEvent([])\n",
    "keyhole_teeth |= Event({y: portion.closedopen(4, 5), z: portion.closedopen(6, 7), x: portion.openclosed(1, 2)})\n",
    "keyhole_teeth |= Event({y: portion.closedopen(3, 4), z: portion.closedopen(7, 8), x: portion.openclosed(4, 5)})\n",
    "keyhole_teeth |= Event({y: portion.closedopen(2, 3), z: portion.closedopen(8, 9), x: portion.openclosed(2, 4)})\n",
    "keyhole |= keyhole_teeth\n",
    "\n",
    "lock = lock.difference(keyhole)\n",
    "fig = go.Figure()\n",
    "fig.add_traces(lock.plot(color=\"grey\"))\n",
    "fig.add_traces(keyhole.plot(gold))\n",
    "fig.show()"
   ],
   "outputs": []
  },
  {
   "cell_type": "markdown",
   "source": [
    "# Task\n",
    "\n",
    "Open the door to more powerful tools by crafting the key to this lock."
   ],
   "metadata": {
    "collapsed": false
   },
   "id": "c0d592a9fdb0ea1b"
  }
 ],
 "metadata": {
  "kernelspec": {
   "display_name": "Python 3",
   "language": "python",
   "name": "python3"
  },
  "language_info": {
   "codemirror_mode": {
    "name": "ipython",
    "version": 2
   },
   "file_extension": ".py",
   "mimetype": "text/x-python",
   "name": "python",
   "nbconvert_exporter": "python",
   "pygments_lexer": "ipython2",
   "version": "2.7.6"
  }
 },
 "nbformat": 4,
 "nbformat_minor": 5
}
