{
 "cells": [
  {
   "cell_type": "markdown",
   "id": "511a12a53c44b9d2",
   "metadata": {
    "collapsed": false
   },
   "source": [
    "# Self Assessment Test\n",
    "\n",
    "In this notebook, you can check how well you understand the concepts of the sigma algebra and the implementation in this package."
   ]
  },
  {
   "cell_type": "code",
   "id": "initial_id",
   "metadata": {
    "editable": true,
    "slideshow": {
     "slide_type": ""
    },
    "tags": [
     "remove-input"
    ],
    "ExecuteTime": {
     "end_time": "2024-06-03T12:41:33.338823Z",
     "start_time": "2024-06-03T12:41:33.332949Z"
    }
   },
   "source": [
    "from jupyterquiz import display_quiz\n",
    "\n",
    "q1 = {\n",
    "       \"question\": \"Which shapes can be represented using the product sigma algebra?\",\n",
    "       \"type\": \"many_choice\",\n",
    "         \"answers\": [{\"answer\": \"Triangles\", \"correct\": False},\n",
    "                     {\"answer\": \"Squares\", \"correct\": True},\n",
    "                     {\"answer\": \"Circles\", \"correct\": False},\n",
    "                     {\"answer\": \"Rectangles\", \"correct\": True},\n",
    "                     {\"answer\": \"Cubes\", \"correct\": True},\n",
    "                     {\"answer\": \"Lines\", \"correct\": True},\n",
    "                     {\"answer\": \"Trapezoids\", \"correct\": False},\n",
    "                     {\"answer\": \"Parallelograms\", \"correct\": False},\n",
    "                     {\"answer\": \"Pyramids\", \"correct\": False},\n",
    "                     {\"answer\": \"Hyper-Rectangles\", \"correct\": True},\n",
    "                     ]\n",
    "}\n",
    "display_quiz([q1])"
   ],
   "execution_count": 2,
   "outputs": []
  },
  {
   "cell_type": "markdown",
   "source": [
    "Next, solve this crossword puzzle.\n",
    "\n",
    "![Crossword Puzzle](../images/crossword_puzzle_sigma_algebra.svg)"
   ],
   "metadata": {
    "collapsed": false
   },
   "id": "d0f6cf92e9b8c44a"
  }
 ],
 "metadata": {
  "kernelspec": {
   "display_name": "Python 3 (ipykernel)",
   "language": "python",
   "name": "python3"
  },
  "language_info": {
   "codemirror_mode": {
    "name": "ipython",
    "version": 3
   },
   "file_extension": ".py",
   "mimetype": "text/x-python",
   "name": "python",
   "nbconvert_exporter": "python",
   "pygments_lexer": "ipython3",
   "version": "3.9.5"
  }
 },
 "nbformat": 4,
 "nbformat_minor": 5
}
