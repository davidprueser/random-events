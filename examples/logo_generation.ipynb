{
 "cells": [
  {
   "cell_type": "markdown",
   "source": [
    "# Advanced Use of Random Events\n",
    "\n",
    "In this tutorial we will look at a humorous application of random events. This examples shows, that elements from the product algebra, can take almost any shape, such as a tomato. \n",
    "First, we import the necessary packages and define two variables."
   ],
   "metadata": {
    "collapsed": false
   },
   "id": "398a700bb678f08f"
  },
  {
   "cell_type": "code",
   "id": "initial_id",
   "metadata": {
    "collapsed": true,
    "ExecuteTime": {
     "end_time": "2024-06-03T12:18:57.124014Z",
     "start_time": "2024-06-03T12:18:57.094109Z"
    }
   },
   "source": [
    "import os.path\n",
    "from random_events.product_algebra import Event, SimpleEvent\n",
    "from random_events.variable import Continuous\n",
    "from random_events.interval import *\n",
    "from PIL import Image\n",
    "import numpy as np\n",
    "import plotly\n",
    "plotly.offline.init_notebook_mode()\n",
    "import plotly.graph_objects as go"
   ],
   "execution_count": 6,
   "outputs": []
  },
  {
   "cell_type": "code",
   "source": [
    "x = Continuous(\"x\")\n",
    "y = Continuous(\"y\")"
   ],
   "metadata": {
    "collapsed": false
   },
   "id": "29d0b28a5e6f48ca",
   "execution_count": 7,
   "outputs": []
  },
  {
   "cell_type": "markdown",
   "source": [
    "Next, let's load the logo of this package."
   ],
   "metadata": {
    "collapsed": false
   },
   "id": "754e1b2e8e1fb9f5"
  },
  {
   "cell_type": "code",
   "source": [
    "path = os.path.join(\"..\", \"doc\", \"logo\", \"Tomato.png\")\n",
    "image = im=Image.open(path)\n",
    "image"
   ],
   "metadata": {
    "collapsed": false
   },
   "id": "6dfb4ca602b7491b",
   "execution_count": 8,
   "outputs": []
  },
  {
   "cell_type": "markdown",
   "source": [
    "We can express this image as an event that can be reasoned about."
   ],
   "metadata": {
    "collapsed": false
   },
   "id": "89195166d6606571"
  },
  {
   "cell_type": "code",
   "source": [
    "image = np.array(image.resize((18, 17), Image.NEAREST))\n",
    "colors = np.unique(image.reshape((image.shape[0] * image.shape[1], image.shape[2])), axis=0)[1:]\n",
    "def indices_to_complex_event(indices: np.array) -> Event:\n",
    "    result = Event()\n",
    "    for index in indices:\n",
    "        event = SimpleEvent({y: closed_open(-index[0] - 1, -index[0]),\n",
    "                       x: closed_open(index[1], index[1] + 1)})\n",
    "        result.simple_sets.add(event)\n",
    "    return result.simplify()\n",
    "\n",
    "fig = go.Figure()\n",
    "\n",
    "complex_events = []\n",
    "\n",
    "for color in colors:\n",
    "    pixel_indices = np.transpose(np.nonzero(np.all(image == color, axis=-1)))\n",
    "    complex_event = indices_to_complex_event(pixel_indices)\n",
    "    complex_events.append(complex_event)\n",
    "    traces = complex_event.plot(f\"rgb({color[0]},{color[1]},{color[2]})\")\n",
    "    fig.update_layout(complex_event.plotly_layout())\n",
    "    fig.add_traces(traces)\n",
    "\n",
    "fig.update_layout(title=\"Random Events Tomato\")\n",
    "fig.show()"
   ],
   "metadata": {
    "collapsed": false,
    "ExecuteTime": {
     "end_time": "2024-06-03T12:18:57.717717Z",
     "start_time": "2024-06-03T12:18:57.129794Z"
    }
   },
   "id": "767c932bc1a6beb",
   "execution_count": 9,
   "outputs": []
  },
  {
   "cell_type": "markdown",
   "source": [
    "While the shape of a tomato as an event that can be used for probabilistic reasoning serves no particular research, it showcases that random events can take approximately any shape and not \"just\" rectangles.\n",
    "Unions of complex events of any shape can also performed to get the tomato as an entire event and not a union of three different events."
   ],
   "metadata": {
    "collapsed": false
   },
   "id": "5bdcd00ab2fac7cf"
  },
  {
   "cell_type": "code",
   "source": [
    "entire_event = complex_events[0] | complex_events[1] | complex_events[2]\n",
    "fig = go.Figure(entire_event.plot(), entire_event.plotly_layout())\n",
    "fig.update_layout(title=\"Random Events Tomato as one Event\")\n",
    "fig.show()"
   ],
   "metadata": {
    "collapsed": false,
    "ExecuteTime": {
     "end_time": "2024-06-03T12:18:57.880334Z",
     "start_time": "2024-06-03T12:18:57.718292Z"
    }
   },
   "id": "ce38e8a948d2a0d5",
   "execution_count": 10,
   "outputs": []
  },
  {
   "cell_type": "markdown",
   "source": [
    "I hope this bizarre examples aids you in understanding of the product algebra capabilities. \n",
    "Using this event, you can calculate things like the probability of a tomato or the conditional distribution given a tomato. "
   ],
   "metadata": {
    "collapsed": false
   },
   "id": "576ab8ad7c53f09e"
  }
 ],
 "metadata": {
  "kernelspec": {
   "display_name": "Python 3",
   "language": "python",
   "name": "python3"
  },
  "language_info": {
   "codemirror_mode": {
    "name": "ipython",
    "version": 2
   },
   "file_extension": ".py",
   "mimetype": "text/x-python",
   "name": "python",
   "nbconvert_exporter": "python",
   "pygments_lexer": "ipython2",
   "version": "2.7.6"
  }
 },
 "nbformat": 4,
 "nbformat_minor": 5
}
