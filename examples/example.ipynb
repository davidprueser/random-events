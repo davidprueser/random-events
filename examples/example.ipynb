{
 "cells": [
  {
   "cell_type": "markdown",
   "source": [
    "# Quickstart\n",
    "\n",
    "The tutorial walks through the most common used functions of this package.\n",
    "\n",
    "First, import the necessary functionality."
   ],
   "metadata": {
    "collapsed": false
   },
   "id": "fcedd1911254a80c"
  },
  {
   "cell_type": "code",
   "id": "initial_id",
   "metadata": {
    "collapsed": true,
    "ExecuteTime": {
     "end_time": "2024-06-03T12:18:35.971666Z",
     "start_time": "2024-06-03T12:18:35.939299Z"
    }
   },
   "source": [
    "from random_events.variable import Symbolic, Integer, Continuous\n",
    "from random_events.product_algebra import SimpleEvent, Event\n",
    "from random_events.interval import *\n",
    "from random_events.set import *\n",
    "import plotly\n",
    "import plotly.graph_objects as go\n",
    "plotly.offline.init_notebook_mode()"
   ],
   "execution_count": 31,
   "outputs": []
  },
  {
   "cell_type": "markdown",
   "source": [
    "Next, create a variable of each type and inspect those objects."
   ],
   "metadata": {
    "collapsed": false
   },
   "id": "38c6e9a87d07bf4c"
  },
  {
   "cell_type": "code",
   "source": [
    "class SymbolElement(SetElement):\n",
    "    EMPTY_SET = 0\n",
    "    APPLE = 1\n",
    "    DOG = 2\n",
    "    RAIN = 3\n",
    "\n",
    "symbol = Symbolic(\"symbol\", SymbolElement)\n",
    "integer = Integer(\"integer\")\n",
    "real = Continuous(\"real\")\n",
    "symbol, integer, real"
   ],
   "metadata": {
    "collapsed": false,
    "ExecuteTime": {
     "end_time": "2024-06-03T12:18:35.975620Z",
     "start_time": "2024-06-03T12:18:35.972774Z"
    }
   },
   "id": "49b07deb8aecb5d0",
   "execution_count": 32,
   "outputs": []
  },
  {
   "cell_type": "markdown",
   "source": [
    "The variables can be easily serialized by converting objects to json and creating them from a json dict."
   ],
   "metadata": {
    "collapsed": false
   },
   "id": "1f9c1dc6a4cf5c6d"
  },
  {
   "cell_type": "code",
   "source": [
    "print(symbol.to_json())\n",
    "print(Symbolic.from_json(symbol.to_json()))"
   ],
   "metadata": {
    "collapsed": false
   },
   "id": "a3aed36278dab281",
   "execution_count": 33,
   "outputs": []
  },
  {
   "cell_type": "markdown",
   "source": [
    "Events can be composed from assignments to variables using a dictionary interface."
   ],
   "metadata": {
    "collapsed": false
   },
   "id": "ffb5c36e4b0cdc61"
  },
  {
   "cell_type": "code",
   "source": [
    "event = SimpleEvent({symbol: SymbolElement.RAIN, real: open(-float(\"inf\"), 2)}).as_composite_set()\n",
    "event"
   ],
   "metadata": {
    "collapsed": false,
    "ExecuteTime": {
     "end_time": "2024-06-03T12:18:36.004386Z",
     "start_time": "2024-06-03T12:18:36.000923Z"
    }
   },
   "id": "a81cd22d80129c04",
   "execution_count": 34,
   "outputs": []
  },
  {
   "cell_type": "markdown",
   "source": [
    "The created event describes a world where symbol has the value rain and real is lesser than 2. \n",
    "Events and generally VariableMaps can be accessed via the variable itself or its name."
   ],
   "metadata": {
    "collapsed": false
   },
   "id": "ad6b1850e128d4e1"
  },
  {
   "cell_type": "code",
   "source": [
    "print(event.simple_sets[0][\"real\"])\n",
    "print(event.simple_sets[0][real])"
   ],
   "metadata": {
    "collapsed": false,
    "ExecuteTime": {
     "end_time": "2024-06-03T12:18:36.007318Z",
     "start_time": "2024-06-03T12:18:36.005380Z"
    }
   },
   "id": "4975045ed9540d52",
   "execution_count": 35,
   "outputs": []
  },
  {
   "cell_type": "markdown",
   "source": "Events can also be intersected with another event using the `intersection_with` method or `&` operator.",
   "metadata": {
    "collapsed": false
   },
   "id": "6c1f81ed4da86454"
  },
  {
   "cell_type": "code",
   "source": [
    "second_event = SimpleEvent({symbol: Set(SymbolElement.RAIN, SymbolElement.APPLE), real: open(1, 4)}).as_composite_set()\n",
    "print(event.intersection_with(second_event))\n",
    "print(event & second_event)"
   ],
   "metadata": {
    "collapsed": false,
    "ExecuteTime": {
     "end_time": "2024-06-03T12:18:36.009901Z",
     "start_time": "2024-06-03T12:18:36.007928Z"
    }
   },
   "id": "b4da0a20e367a1c0",
   "execution_count": 36,
   "outputs": []
  },
  {
   "cell_type": "markdown",
   "source": [
    "For unions, differences and complements, the events generate complex events, since the result is a product outer space."
   ],
   "metadata": {
    "collapsed": false
   },
   "id": "154cff93a65fa0a4"
  },
  {
   "cell_type": "code",
   "source": [
    "print(event | second_event) # or event.union_with(second_event)\n",
    "print(second_event - event) # or second_event.difference_with(event)\n",
    "print(~event) # or event.complement()"
   ],
   "metadata": {
    "collapsed": false,
    "ExecuteTime": {
     "end_time": "2024-06-03T12:18:36.015256Z",
     "start_time": "2024-06-03T12:18:36.010334Z"
    }
   },
   "id": "e8bb102d6d36e9a8",
   "execution_count": 37,
   "outputs": []
  },
  {
   "cell_type": "markdown",
   "source": [
    "Events can also be plotted."
   ],
   "metadata": {
    "collapsed": false
   },
   "id": "d923870f7d4400a4"
  },
  {
   "cell_type": "code",
   "source": [
    "x = Continuous(\"x\")\n",
    "y = Continuous(\"y\")\n",
    "event = SimpleEvent({x: open(0, 1), y: open(0, 1)}).as_composite_set()\n",
    "fig = go.Figure(event.plot(), event.plotly_layout())\n",
    "fig.show()"
   ],
   "metadata": {
    "collapsed": false,
    "ExecuteTime": {
     "end_time": "2024-06-03T12:18:36.019997Z",
     "start_time": "2024-06-03T12:18:36.015938Z"
    }
   },
   "id": "8c25f3846c860230",
   "execution_count": 38,
   "outputs": []
  },
  {
   "cell_type": "markdown",
   "source": "More complex events can also be plotted.",
   "metadata": {
    "collapsed": false
   },
   "id": "4e3a3a43ce75687f"
  },
  {
   "cell_type": "code",
   "source": [
    "complement = event.complement()\n",
    "limiting_event = SimpleEvent({x: closed(-1, 2), y: closed(-1, 2)}).as_composite_set()\n",
    "result = complement & limiting_event\n",
    "fig = go.Figure(result.plot(), result.plotly_layout())\n",
    "fig.show()"
   ],
   "metadata": {
    "collapsed": false,
    "ExecuteTime": {
     "end_time": "2024-06-03T12:18:36.025615Z",
     "start_time": "2024-06-03T12:18:36.020406Z"
    }
   },
   "id": "d22ef1b9c9b7c767",
   "execution_count": 39,
   "outputs": []
  },
  {
   "cell_type": "markdown",
   "source": [
    "Serialization from and to json is also possible."
   ],
   "metadata": {
    "collapsed": false
   },
   "id": "45dd9ba23b5c9d74"
  },
  {
   "cell_type": "code",
   "source": [
    "complement_json = complement.to_json()\n",
    "complement_from_json = Event.from_json(complement_json)\n",
    "complement_from_json == complement"
   ],
   "metadata": {
    "collapsed": false,
    "ExecuteTime": {
     "end_time": "2024-06-03T12:18:36.028257Z",
     "start_time": "2024-06-03T12:18:36.026074Z"
    }
   },
   "id": "12b0c378134e8a09",
   "execution_count": 40,
   "outputs": []
  }
 ],
 "metadata": {
  "kernelspec": {
   "display_name": "Python 3",
   "language": "python",
   "name": "python3"
  },
  "language_info": {
   "codemirror_mode": {
    "name": "ipython",
    "version": 2
   },
   "file_extension": ".py",
   "mimetype": "text/x-python",
   "name": "python",
   "nbconvert_exporter": "python",
   "pygments_lexer": "ipython2",
   "version": "2.7.6"
  }
 },
 "nbformat": 4,
 "nbformat_minor": 5
}
