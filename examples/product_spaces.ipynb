{
 "cells": [
  {
   "cell_type": "markdown",
   "source": [
    "# Product $\\sigma$-Algebra\n",
    "\n",
    "This tutorial is part of a bigger series on probabilistic machine learning and aids in understanding product $\\sigma$-algebras.\n",
    "At the end of this notebook, you will understand...\n",
    "\n",
    "- The Definition of the $\\sigma$-Algebra\n",
    "- Why these concepts matter, especially for robotics\n",
    "- How to apply them using the package   \n",
    "\n",
    "\n",
    "## Motivation\n",
    "\n",
    "Since studying concepts like the $\\sigma$-Algebra is dry, I want to motivate you on why this matters and you should take the time to think about the $\\sigma$-Algebra and specially the Product $\\sigma$-Algebra:\n",
    "\n",
    "- **Foundations of probability theory**: $\\sigma$-algebras are the building blocks for defining probability in a rigorous way. By understanding them, you gain a deeper understanding of how probabilities are assigned to events.\n",
    "- **Working with complex events**:  In real-world scenarios, events can be intricate. Sigma algebras allow you to describe not just simple events but also unions, intersections, and complements of these events, giving you a powerful tool to analyze probabilities of more complex situations.\n",
    "- **Connection to advanced math**: Sigma algebras bridge the gap between set theory and advanced mathematical concepts like measure theory and integration. Studying them opens doors to these powerful tools used in various scientific fields.\n",
    "\n",
    "\n",
    "If you are interested in robotics, it is also important since:\n",
    "\n",
    "- **Reasoning with uncertainty**: Robots often operate in environments with uncertainty. $\\sigma$ algebras provide a mathematical foundation to represent uncertain events and reason about the probability of different events happening (like sensor readings or obstacles appearing).\n",
    "- **Decision making under probability**:  Many robotic tasks involve making decisions based on probabilities. By understanding $\\sigma$-algebras, you can build algorithms that consider the chance of different outcomes and choose the action with the highest probability of success.\n",
    "- **Planning and control under uncertainty**:  Planning robot actions often requires considering various possibilities. $\\sigma$-algebras allow you to create probabilistic models of the environment, enabling robots to plan and control their movements while accounting for uncertainties.\n",
    "\n",
    "Research has shown that events that are described by independent constraints (rules) are most likely the only events where probability estimation is tractable.\n",
    "Spaces that are constructed by independent constraints are called product spaces.\n",
    "Understanding the shape of such events is a key competence to building (new) tractable probabilistic models.\n",
    "In this tutorial, we will work with some visualizations of said events, to get a better understanding of their shape, behavior and math."
   ],
   "metadata": {
    "collapsed": false
   },
   "id": "29699f791234335"
  },
  {
   "cell_type": "markdown",
   "source": [
    "We begin by reciting the definition of a $\\sigma$-algebra.\n",
    "\n",
    "## $\\sigma$-Algebra\n",
    "\n",
    "A $\\sigma$ algebra is a set of sets that contains all set-differences that can be constructed by combining arbitrary subsets of said set. Furthermore, it contains all countable unions of sets and all infinite intersection of the set. More formally, according to Kolmogoroff: \n",
    "\n",
    "Let $E$ be a space of elementary events. Consider the powerset $2^E$ and let $\\Im \\subset 2^E$ be a set of subsets of $E$. Elements of $\\Im$ are called random events. If $\\Im$ satisfies the following properties,it is called a $\\sigma$-algebra.\n",
    "\n",
    "1. $E \\in \\Im$\n",
    "2. $(A, B) \\in \\Im \\Rightarrow (A - B) \\in \\Im$\n",
    "3. $(A_1, A_2, ... \\in \\Im) \\Rightarrow \\left( \\bigcup_{i=1}^\\mathbb{N} A_i \\in \\Im \\wedge \\bigcap_{i=1}^\\infty A_i \\in \\Im \\right)$\n",
    "\n",
    "The tuple $(E, \\Im)$ is called a measurable space.\n",
    "\n",
    "An example of such a set of sets is the following:"
   ],
   "metadata": {
    "collapsed": false
   },
   "id": "e241ab4a9df8dd28"
  },
  {
   "cell_type": "code",
   "source": [
    "from itertools import chain, combinations\n",
    "    \n",
    "\n",
    "def powerset(iterable):\n",
    "    s = list(iterable)\n",
    "    result = list(chain.from_iterable(combinations(s, r) for r in range(len(s) + 1)))\n",
    "    return [set(x) for x in result]\n",
    "\n",
    "\n",
    "E = {\"a\", \"b\", \"c\"}\n",
    "powerset_of_E = powerset(E)\n",
    "powerset_of_E"
   ],
   "metadata": {
    "collapsed": false,
    "ExecuteTime": {
     "end_time": "2024-06-03T12:28:22.799813Z",
     "start_time": "2024-06-03T12:28:22.794999Z"
    }
   },
   "id": "efd225f025a25755",
   "execution_count": 1,
   "outputs": []
  },
  {
   "cell_type": "markdown",
   "source": [
    "We can see that this is a correct $\\sigma$-algebra by verifying all axioms. First, check if it contains the space of elementary Events $E$:"
   ],
   "metadata": {
    "collapsed": false
   },
   "id": "a5548beba930410e"
  },
  {
   "cell_type": "code",
   "source": [
    "E in powerset_of_E"
   ],
   "metadata": {
    "collapsed": false,
    "ExecuteTime": {
     "end_time": "2024-06-03T12:28:22.829140Z",
     "start_time": "2024-06-03T12:28:22.827249Z"
    }
   },
   "id": "4718cfb47e7aabf5",
   "execution_count": 2,
   "outputs": []
  },
  {
   "cell_type": "markdown",
   "source": [
    "Next, check if it contains all set differences:"
   ],
   "metadata": {
    "collapsed": false
   },
   "id": "a8e23b88ee558e34"
  },
  {
   "cell_type": "code",
   "source": [
    "for A, B in combinations(powerset_of_E, 2):\n",
    "    if A - B not in powerset_of_E:\n",
    "        print(f\"Set difference {A - B} not in powerset\")"
   ],
   "metadata": {
    "collapsed": false,
    "ExecuteTime": {
     "end_time": "2024-06-03T12:28:22.832129Z",
     "start_time": "2024-06-03T12:28:22.830663Z"
    }
   },
   "id": "dc64275c217072e",
   "execution_count": 3,
   "outputs": []
  },
  {
   "cell_type": "markdown",
   "source": [
    "Finally, check if it contains all countable unions and intersections:"
   ],
   "metadata": {
    "collapsed": false
   },
   "id": "1b94834332d48104"
  },
  {
   "cell_type": "code",
   "source": [
    "for A, B in combinations(powerset_of_E, 2):\n",
    "    if A.union(B) not in powerset_of_E:\n",
    "        print(f\"Union {A.union(B)} not in powerset\")\n",
    "    if A.intersection(B) not in powerset_of_E:\n",
    "        print(f\"Intersection {A.intersection(B)} not in powerset\")"
   ],
   "metadata": {
    "collapsed": false,
    "ExecuteTime": {
     "end_time": "2024-06-03T12:28:22.834137Z",
     "start_time": "2024-06-03T12:28:22.832633Z"
    }
   },
   "id": "e7dc354bb8a70a12",
   "execution_count": 4,
   "outputs": []
  },
  {
   "cell_type": "markdown",
   "source": [
    "We have constructed a $\\sigma$-algebra. This is a very simple example, but it is important to understand the concept of such a system of sets.\n",
    "As you can probably imagine, it is very inefficient to work with powersets of sets due to their exponential size. That's why I introduce the concept of product $\\sigma$-algebras.\n",
    "\n",
    "Product $\\sigma$-algebras are constructed by taking the cartesian product of sets and then constructing the $\\sigma$-algebra on the resulting set.\n",
    "In this package, we generate product algebras from a viewpoint of classical machine learning. In machine learning scenarios we typically have a set of variables that we want to reason about. Random Events also start there. Let's start by defining some variables."
   ],
   "metadata": {
    "collapsed": false
   },
   "id": "9760a7401df5d50e"
  },
  {
   "cell_type": "code",
   "source": [
    "from random_events.set import *\n",
    "from random_events.variable import *\n",
    "\n",
    "class Item(SetElement):\n",
    "    EMPTY_SET = 0\n",
    "    BOWL = 1\n",
    "    CUP = 2\n",
    "    SPOON = 3\n",
    "    \n",
    "class Color(SetElement):\n",
    "    EMPTY_SET = 0\n",
    "    BLUE = 1\n",
    "    GREEN = 2\n",
    "    RED = 3\n",
    "\n",
    "\n",
    "item = Symbolic(\"item\", Item)\n",
    "color = Symbolic(\"color\", Color)\n",
    "print(item)\n",
    "print(color)"
   ],
   "metadata": {
    "collapsed": false,
    "ExecuteTime": {
     "end_time": "2024-06-03T12:28:22.838731Z",
     "start_time": "2024-06-03T12:28:22.834639Z"
    }
   },
   "id": "27ea010bc8892833",
   "execution_count": 5,
   "outputs": []
  },
  {
   "cell_type": "markdown",
   "source": [
    "The variables we just constructed consisted of a name and a set of possible values, the so-called domain.\n",
    "While the name is just an identifier, the domain is the set of elementary events, as described in the definition of a $\\sigma$-algebra.\n",
    "Regarding the formal terms from above, we can write a variable as a measurable space $(\\text{variable.domain}, 2^\\text{variable.domain})$, which means in common words that everything inside the domain is a possible and every combination of the things inside the domain is possible.\n",
    "\n",
    "Forming combinations of those two variables introduces the product algebra."
   ],
   "metadata": {
    "collapsed": false
   },
   "id": "4177e337f8508dbb"
  },
  {
   "cell_type": "markdown",
   "source": [
    "## Product $\\sigma$-Algebra\n",
    "\n",
    "Let $(E_1,\\Im_1)$ and $(E_2,\\Im_2)$ be measurable spaces.\n",
    "The product $\\sigma$-algebra of $\\Im_1$ and $\\Im_2$ is denoted $\\Im_1 \\otimes \\Im_2$, and defined as:\n",
    "$\\Im_1 \\otimes \\Im_2 := \\sigma(\\{S_1 \\times S_2 : S_1 \\in \\Im_1 \\wedge S_2 \\in \\Im_2\\})$\n",
    "where $\\sigma$ denotes generated $\\sigma$-algebra and $\\times$ denotes Cartesian product.\n",
    "This is a $\\sigma$-algebra on the Cartesian product $E_1 \\times E_2$."
   ],
   "metadata": {
    "collapsed": false
   },
   "id": "1e540dd7a73f029"
  },
  {
   "cell_type": "markdown",
   "source": [
    "An example of this product algebra is the combination of the item and color variables."
   ],
   "metadata": {
    "collapsed": false
   },
   "id": "f79082602711ff4b"
  },
  {
   "cell_type": "code",
   "source": [
    "from itertools import product\n",
    "product_E = product(item.domain, color.domain)\n",
    "list(product_E)"
   ],
   "metadata": {
    "collapsed": false,
    "ExecuteTime": {
     "end_time": "2024-06-03T12:28:22.841282Z",
     "start_time": "2024-06-03T12:28:22.839316Z"
    }
   },
   "id": "379cef1a50307c47",
   "execution_count": 6,
   "outputs": []
  },
  {
   "cell_type": "markdown",
   "source": [
    "However, as these are already 9 elementary events the powerset contains $2^9 = 512$ elements. This is not feasible to work with. Hence, a better description of a subset of the powerset is needed.\n",
    "This is where the concept of events comes into play. Events are subsets of the powerset that are constructed by constraints on the variables. The event they describe is given by the Cartesian product of all elements within the constraints."
   ],
   "metadata": {
    "collapsed": false
   },
   "id": "a2f15178104f46bc"
  },
  {
   "cell_type": "code",
   "source": [
    "from random_events.product_algebra import *\n",
    "event = SimpleEvent({item: Set(Item.BOWL, Item.CUP), color: Color.BLUE})\n",
    "list(product(*event.values()))"
   ],
   "metadata": {
    "collapsed": false,
    "ExecuteTime": {
     "end_time": "2024-06-03T12:28:22.908178Z",
     "start_time": "2024-06-03T12:28:22.841673Z"
    }
   },
   "id": "a53e718226f00339",
   "execution_count": 7,
   "outputs": []
  },
  {
   "cell_type": "markdown",
   "source": [
    "Unfortunately, a union of such event cannot be accurately described by a single event. Consider the following "
   ],
   "metadata": {
    "collapsed": false
   },
   "id": "c1d0eb7d2d61b478"
  },
  {
   "cell_type": "code",
   "source": [
    "event1 = SimpleEvent({item: Item.BOWL, color: Color.BLUE}).as_composite_set()\n",
    "event2 = SimpleEvent({item: Item.CUP, color: Color.RED}).as_composite_set()"
   ],
   "metadata": {
    "collapsed": false,
    "ExecuteTime": {
     "end_time": "2024-06-03T12:28:22.913515Z",
     "start_time": "2024-06-03T12:28:22.909406Z"
    }
   },
   "id": "1bb140fb470e3cf7",
   "execution_count": 8,
   "outputs": []
  },
  {
   "cell_type": "markdown",
   "source": [
    "If the union of these events is constructed for every variable, one would obtain the following event"
   ],
   "metadata": {
    "collapsed": false
   },
   "id": "6ac423435581d08e"
  },
  {
   "cell_type": "code",
   "source": [
    "event_union = SimpleEvent({item:  Set(Item.BOWL, Item.CUP), color: Set(Color.BLUE, Color.RED)}).as_composite_set()\n",
    "event_union"
   ],
   "metadata": {
    "collapsed": false,
    "ExecuteTime": {
     "end_time": "2024-06-03T12:28:22.919109Z",
     "start_time": "2024-06-03T12:28:22.914307Z"
    }
   },
   "id": "b74c89bfbed07d6f",
   "execution_count": 9,
   "outputs": []
  },
  {
   "cell_type": "markdown",
   "source": [
    "However, this is not the union of the two events. This union contains the event (\"blue\", \"cup\"), which was not part of any of the above events. Hence the real union is constructed this way:  "
   ],
   "metadata": {
    "collapsed": false
   },
   "id": "f9e5079fb88147e6"
  },
  {
   "cell_type": "code",
   "source": [
    "real_event_union = event1 | event2\n",
    "str(real_event_union)"
   ],
   "metadata": {
    "collapsed": false
   },
   "id": "7fd789bf96187ca1",
   "execution_count": 10,
   "outputs": []
  },
  {
   "cell_type": "markdown",
   "source": [
    "The correct union is a complex event. A complex event is a union of disjoint events.\n",
    "\n",
    "## Connections to Logic\n",
    "\n",
    "Algebraic concepts are hard to grasp. Since you, the reader, are very likely a Computer Scientists I will re-explain a random event from the perspective of logic.\n",
    "We can rewrite the assignment of a variable to a set as a boolean variable. For example,\n",
    "$Item_{\\{\\text{bowl}, \\text{cup}\\}} = item \\in \\{\\text{bowl}, \\text{cup}\\}$\n",
    "is a boolean variable that is true if the item is a bowl or a cup.\n",
    "We can rewrite the statement of the union as logical statement.\n",
    "$$ \\left( Item_{\\{\\text{bowl}\\}} \\land Color_{\\{\\text{blue}\\}} \\right) \\lor \\left( Item_{\\{\\text{cup}\\}} \\land Color_{\\{\\text{red}\\}} \\right) $$\n",
    "This logical statement describes either a blue bowl or a red cup.\n",
    "The complex random events can always be thought of as a disjunction of conjunctions, hence a logical statement in the [disjunctive normal form](https://en.wikipedia.org/wiki/Disjunctive_normal_form)."
   ],
   "metadata": {
    "collapsed": false
   },
   "id": "bf5b8159724db75"
  },
  {
   "cell_type": "markdown",
   "source": [
    "## Continuous Domains\n",
    "\n",
    "Getting a better understanding for such abstract concepts is best done through visualisations. Hence, we will now work with continuous variables.\n",
    "In continuous variables, the possible values are intervals. This package uses portion to represent intervals. Let's get some hands on by defining continuous variables."
   ],
   "metadata": {
    "collapsed": false
   },
   "id": "65bf0f9ece0f4bd"
  },
  {
   "cell_type": "code",
   "source": [
    "from random_events.interval import *\n",
    "x = Continuous(\"x\")\n",
    "y = Continuous(\"y\")\n",
    "\n",
    "rectangle_event = SimpleEvent({x: closed(2, 3), y: closed(10, 15)}).as_composite_set()\n",
    "fig = go.Figure(rectangle_event.plot(), rectangle_event.plotly_layout())\n",
    "fig.update_layout(title= \"Rectangle event in 2D\")\n",
    "fig.show()"
   ],
   "metadata": {
    "collapsed": false,
    "ExecuteTime": {
     "end_time": "2024-06-03T12:28:23.063693Z",
     "start_time": "2024-06-03T12:28:22.926073Z"
    }
   },
   "id": "a86b223360f60725",
   "execution_count": 11,
   "outputs": []
  },
  {
   "cell_type": "markdown",
   "source": [
    "We can see that the described event is a rectangle in the x-y-plane. In fact, for higher dimensions, the described event will always be a hyper-rectangle.\n",
    "Shapes like triangles, circles, etc. are not possible since they are made from dependent constraints. A circle with radius r, for example, can be described by the constraint `x^2 + y^2 <= r^2`, which is not independent.\n",
    "\n",
    "The only upper class of more complicated shapes can be constructed by defining more complex, independent constraints."
   ],
   "metadata": {
    "collapsed": false
   },
   "id": "f3f413c239110fc0"
  },
  {
   "cell_type": "code",
   "source": [
    "complex_event = SimpleEvent({x: closed(2, 3) | closed(4, 5) | closed(6,7), y: closed(10, 15) | closed(25, 27)})\n",
    "complex_event"
   ],
   "metadata": {
    "collapsed": false
   },
   "id": "86d42ecd896bef10",
   "execution_count": 12,
   "outputs": []
  },
  {
   "cell_type": "markdown",
   "source": [
    "Let's have a graphical look at it."
   ],
   "metadata": {
    "collapsed": false
   },
   "id": "90cfd9916c8fdcc0"
  },
  {
   "cell_type": "code",
   "source": [
    "fig = go.Figure(complex_event.plot(), complex_event.plotly_layout())\n",
    "fig.update_layout(title= \"Complex event in 2D\")\n",
    "fig.show()"
   ],
   "metadata": {
    "collapsed": false,
    "ExecuteTime": {
     "end_time": "2024-06-03T12:28:23.109159Z",
     "start_time": "2024-06-03T12:28:23.068137Z"
    }
   },
   "id": "7d81de549d20f02b",
   "execution_count": 13,
   "outputs": []
  },
  {
   "cell_type": "markdown",
   "source": [
    "The generalization of such events in higher dimensions results in hyper-rectangles. Let's visualize the transition from 2D to 3D to get a feel for how these shapes behave."
   ],
   "metadata": {
    "collapsed": false
   },
   "id": "4241651b2b1ed30a"
  },
  {
   "cell_type": "code",
   "source": [
    "# extend previous event by 3rd dimension\n",
    "z = Continuous(\"z\")\n",
    "complex_event_3d = complex_event.copy()\n",
    "complex_event_3d[z] = closed(1, 3) | closed(4, 4.5) | closed(10,11.5)\n",
    "fig = go.Figure(complex_event_3d.plot(), complex_event_3d.plotly_layout())\n",
    "fig.update_layout(title= \"Complex event in 3D\")\n",
    "fig.show()"
   ],
   "metadata": {
    "collapsed": false,
    "ExecuteTime": {
     "end_time": "2024-06-03T12:28:23.122789Z",
     "start_time": "2024-06-03T12:28:23.109669Z"
    }
   },
   "id": "da2b51a986fa9d05",
   "execution_count": 14,
   "outputs": []
  },
  {
   "cell_type": "markdown",
   "source": [
    "Unfortunately, the visualization of more than three dimensions is infeasible. The behavior of such events in higher dimensions yet remains the same. New constraints just add another dimension to the\n",
    "rectangle. The patterns that can be created by having multiple intervals also generalize the same way as it did from 2D to 3D."
   ],
   "metadata": {
    "collapsed": false
   },
   "id": "9300c1fdc0ac9ac2"
  },
  {
   "cell_type": "markdown",
   "source": [
    "The final component to look at, is the outer space. When the complement of a rectangular event is created, the result is a set of rectangles that are not part of the original event.\n",
    "This may look like this."
   ],
   "metadata": {
    "collapsed": false
   },
   "id": "2dd3f6212d340b49"
  },
  {
   "cell_type": "code",
   "source": [
    "event = SimpleEvent({x: open(0, 1), y: open(0, 1)}).as_composite_set()\n",
    "complement = event.complement()\n",
    "limiting_event = SimpleEvent({x: closed(-1, 2), y: closed(-1, 2)}).as_composite_set()\n",
    "result = complement.intersection_with(limiting_event)\n",
    "fig = go.Figure(result.plot(), result.plotly_layout())\n",
    "fig.show()"
   ],
   "metadata": {
    "collapsed": false,
    "ExecuteTime": {
     "end_time": "2024-06-03T12:28:23.129873Z",
     "start_time": "2024-06-03T12:28:23.123375Z"
    }
   },
   "id": "97f6f80a61c8abaf",
   "execution_count": 15,
   "outputs": []
  },
  {
   "cell_type": "markdown",
   "source": [],
   "metadata": {
    "collapsed": false
   },
   "id": "4cc21c60f92af0c9"
  },
  {
   "cell_type": "markdown",
   "source": [
    "In 3D, the outer event looks weird, but it is just the complement of the original event. You can use the interactive zoom functionality to see the missing inner event."
   ],
   "metadata": {
    "collapsed": false
   },
   "id": "bc351a7373a9ec7c"
  },
  {
   "cell_type": "code",
   "source": [
    "event = SimpleEvent({x: closed(0, 1),\n",
    "               y: closed(0, 1),\n",
    "               z: closed(0, 1)}).as_composite_set()\n",
    "complement = event.complement()\n",
    "limiting_event = SimpleEvent({x: closed(-1, 2),\n",
    "                        y: closed(-1, 2),\n",
    "                        z: closed(-1, 2)}).as_composite_set()\n",
    "result = complement.intersection_with(limiting_event)\n",
    "fig = go.Figure(result.plot(), result.plotly_layout())\n",
    "fig.show()"
   ],
   "metadata": {
    "collapsed": false,
    "ExecuteTime": {
     "end_time": "2024-06-03T12:28:23.139531Z",
     "start_time": "2024-06-03T12:28:23.130400Z"
    }
   },
   "id": "9e47b2f884e4c9dd",
   "execution_count": 16,
   "outputs": []
  },
  {
   "cell_type": "markdown",
   "source": [
    "In case you didn't find the inner, missing event, here is the outer event cut open. "
   ],
   "metadata": {
    "collapsed": false
   },
   "id": "3888a2df23a1c3fe"
  },
  {
   "cell_type": "code",
   "source": [
    "cut_result = result.intersection_with(SimpleEvent({y: closed(-1, 1)}).as_composite_set())\n",
    "fig = go.Figure(cut_result.plot(), cut_result.plotly_layout())\n",
    "fig.show()"
   ],
   "metadata": {
    "collapsed": false,
    "ExecuteTime": {
     "end_time": "2024-06-03T12:28:23.145674Z",
     "start_time": "2024-06-03T12:28:23.140032Z"
    }
   },
   "id": "a4ef759878e21dd5",
   "execution_count": 17,
   "outputs": []
  },
  {
   "metadata": {},
   "cell_type": "markdown",
   "source": [
    "## Complement of the Product Algebra\n",
    "\n",
    "[This](https://www.math.ucdavis.edu/~hunter/m206/ch4_measure_notes.pdf) mentions that the complement of an element of the product measure is constructed by\n",
    "$$\n",
    "    (A \\times B)^c = (A^c \\times B) \\cup (A \\times B^c) \\cup (A^c \\times B^c).\n",
    "$$\n",
    "It is easy to see that this construction would produce exponential many elements with respect to the number of variables. This is unfortunate.\n",
    "However, the correct complement can be formed with linear many terms, which is way more efficient. The following equations describe a proof by induction on how that can be done.\n",
    "\n",
    "Let\n",
    "\\begin{align*}\n",
    "    \\mathbb{A} &= A \\cup A^c \\, , \\\\\n",
    "    \\mathbb{B} &= B \\cup B^c \\text{ and }\\\\\n",
    "    \\mathbb{C} &= C \\cup C^c.\n",
    "\\end{align*}\n",
    "\n",
    "### Induction Assumption\n",
    "\n",
    "\\begin{align*}\n",
    "    (A \\times B)^c = (A^c \\times \\mathbb{B}) \\cup (A \\times B^C)\n",
    "\\end{align*}\n",
    "Proof:\n",
    "\\begin{align*}\n",
    "    (A \\times B)^c &= (A^c \\times B) \\cup (A \\times B^c) \\cup (A^c \\times B^c) \\\\\n",
    "    &= (A^c \\times B) \\cup (A^c \\times B^c) \\cup (A \\times B^c) \\\\\n",
    "    &= ( A^c \\times (B \\cup B^c) ) \\cup   (A \\times B^c) \\\\\n",
    "    &= (A^c \\times \\mathbb{B}) \\cup (A \\times B^C) \\square\n",
    "\\end{align*}\n",
    "\n",
    "### Induction Step\n",
    "\n",
    "\\begin{align*}\n",
    "    (A \\times B \\times C)^c = (A^c \\times \\mathbb{B} \\times \\mathbb{C}) \\cup (A \\times B^C \\times \\mathbb{C} ) \\cup (A \\times B \\times C^c)\n",
    "\\end{align*}\n",
    "Proof:\n",
    "\\begin{align*}\n",
    "    (A \\times B \\times C)^c &= (A^c \\times B \\times C) \\cup (A \\times B^c \\times C) \\cup (A \\times B \\times C^c) \\cup \n",
    "    (A^c \\times B^c \\times C) \\cup (A^c \\times B \\times C^c) \\cup (A \\times B^c \\times C^c) \\cup \n",
    "    (A^c \\times B^c \\times C^c) \\\\\n",
    "    &= (C \\times \\underbrace{(A^c \\times B) \\cup (A \\times B^c) \\cup (A^c \\times B^c))}_{\\text{Induction Assumption}} \\cup\n",
    "    (C^c \\times  \\underbrace{(A^c \\times B) \\cup (A \\times B^c) \\cup (A^c \\times B^c))}_{\\text{Induction Assumption}} \\cup (A \\times B \\times C^c) \\\\\n",
    "    &= (C \\times (A^c \\times \\mathbb{B}) \\cup (A \\times B^C)) \\cup \n",
    "       (C^c \\times (A^c \\times \\mathbb{B}) \\cup (A \\times B^C)) \\cup (A \\times B \\times C^c)\\\\\n",
    "    &= \n",
    "\\end{align*}\n"
   ],
   "id": "511cdcad45f76bab"
  },
  {
   "cell_type": "markdown",
   "source": [
    "## Application of the Product Algebra\n",
    "\n",
    "You may ask yourself where the product algebra matters in real applications.\n",
    "Consider your kitchen. You most likely have some regions where you are able to stand, and some regions where you can't.\n",
    "If you look at floor plan of your kitchen, you could perhaps describe it as the following event.  "
   ],
   "metadata": {
    "collapsed": false
   },
   "id": "a077c140431ca667"
  },
  {
   "cell_type": "code",
   "source": [
    "kitchen = SimpleEvent({x: closed(0, 6.6), y: closed(0, 7)}).as_composite_set()\n",
    "refrigerator = SimpleEvent({x: closed(5, 6), y: closed(6.3, 7)}).as_composite_set()\n",
    "top_kitchen_island = SimpleEvent({x: closed(0, 5), y: closed(6.5, 7)}).as_composite_set()\n",
    "left_cabinets = SimpleEvent({x: closed(0, 0.5), y: closed(0, 6.5)}).as_composite_set()\n",
    "\n",
    "center_island = SimpleEvent({x: closed(2, 4), y: closed(3, 5)}).as_composite_set()\n",
    "\n",
    "occupied_spaces = refrigerator | top_kitchen_island | left_cabinets | center_island\n",
    "fig = go.Figure(occupied_spaces.plot(), occupied_spaces.plotly_layout())\n",
    "fig.show()"
   ],
   "metadata": {
    "collapsed": false,
    "ExecuteTime": {
     "end_time": "2024-06-03T12:28:23.161753Z",
     "start_time": "2024-06-03T12:28:23.146154Z"
    }
   },
   "id": "b8916038b2521a38",
   "execution_count": 18,
   "outputs": []
  },
  {
   "cell_type": "markdown",
   "source": [
    "Now posing the question on where you can stand in your kitchen, you can simply calculate the complement of the occupied space with the kitchen."
   ],
   "metadata": {
    "collapsed": false
   },
   "id": "96d63611dffff0f5"
  },
  {
   "cell_type": "code",
   "source": [
    "free_space = kitchen.difference_with(occupied_spaces)\n",
    "fig = go.Figure(free_space.plot(), free_space.plotly_layout())\n",
    "fig.show()"
   ],
   "metadata": {
    "collapsed": false,
    "ExecuteTime": {
     "end_time": "2024-06-03T12:28:23.175180Z",
     "start_time": "2024-06-03T12:28:23.162199Z"
    }
   },
   "id": "510b80164a41cfc",
   "execution_count": 19,
   "outputs": []
  },
  {
   "cell_type": "markdown",
   "source": [
    "Now this already sounds somewhat useful. However, just the events are of limited use. The real power of the product algebra comes when you start to calculate probabilities of events.\n",
    "For this, you can check out this tutorial on [probability theory](https://probabilistic-model.readthedocs.io/en/latest/examples/probability_theory.html)."
   ],
   "metadata": {
    "collapsed": false
   },
   "id": "86e43578f1c0808d"
  }
 ],
 "metadata": {
  "kernelspec": {
   "display_name": "Python 3",
   "language": "python",
   "name": "python3"
  },
  "language_info": {
   "codemirror_mode": {
    "name": "ipython",
    "version": 2
   },
   "file_extension": ".py",
   "mimetype": "text/x-python",
   "name": "python",
   "nbconvert_exporter": "python",
   "pygments_lexer": "ipython2",
   "version": "2.7.6"
  }
 },
 "nbformat": 4,
 "nbformat_minor": 5
}
